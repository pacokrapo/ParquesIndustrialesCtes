{
 "cells": [
  {
   "cell_type": "code",
   "execution_count": 2,
   "metadata": {},
   "outputs": [],
   "source": [
    "import folium\n",
    "import geopandas as gpd\n",
    "import json\n",
    "import streamlit as st\n",
    "from streamlit_folium import folium_static\n",
    "import pandas as pd\n",
    "from shapely.geometry import Point"
   ]
  },
  {
   "cell_type": "code",
   "execution_count": 3,
   "metadata": {},
   "outputs": [],
   "source": [
    "DesaguePluvialBDT1 = gpd.read_file(\"./SANTA ROSA/GeoJSON/DesaguePluvialBDT1.geojson\")"
   ]
  },
  {
   "cell_type": "code",
   "execution_count": 4,
   "metadata": {},
   "outputs": [],
   "source": [
    "lista = (\"DesaguePluvialBDT1\", DesaguePluvialBDT1, {'color': 'cyan', 'fillColor': 'cyan', 'weight': 2})"
   ]
  },
  {
   "cell_type": "code",
   "execution_count": 29,
   "metadata": {},
   "outputs": [],
   "source": [
    "str = str(lista[1][\"geometry\"][0])"
   ]
  },
  {
   "cell_type": "code",
   "execution_count": 47,
   "metadata": {},
   "outputs": [
    {
     "data": {
      "text/plain": [
       "0     POINT (-58.07024 -28.23469)\n",
       "1     POINT (-58.07013 -28.23449)\n",
       "2     POINT (-58.07003 -28.23445)\n",
       "3     POINT (-58.06822 -28.23692)\n",
       "4     POINT (-58.06810 -28.23670)\n",
       "5     POINT (-58.06801 -28.23666)\n",
       "6     POINT (-58.07006 -28.23721)\n",
       "7     POINT (-58.07018 -28.23726)\n",
       "8     POINT (-58.06990 -28.23465)\n",
       "9     POINT (-58.06795 -28.23687)\n",
       "10    POINT (-58.07001 -28.23737)\n",
       "11    POINT (-58.07014 -28.23741)\n",
       "12    POINT (-58.06906 -28.23858)\n",
       "Name: geometry, dtype: geometry"
      ]
     },
     "execution_count": 47,
     "metadata": {},
     "output_type": "execute_result"
    }
   ],
   "source": [
    "lista[1][\"geometry\"]"
   ]
  },
  {
   "cell_type": "code",
   "execution_count": 30,
   "metadata": {},
   "outputs": [
    {
     "data": {
      "text/plain": [
       "'POINT (-58.070242241968394 -28.234689115976835)'"
      ]
     },
     "execution_count": 30,
     "metadata": {},
     "output_type": "execute_result"
    }
   ],
   "source": [
    "str"
   ]
  },
  {
   "cell_type": "code",
   "execution_count": 43,
   "metadata": {},
   "outputs": [],
   "source": [
    "coord = str[7:46]"
   ]
  },
  {
   "cell_type": "code",
   "execution_count": 45,
   "metadata": {},
   "outputs": [],
   "source": [
    "coords = coord.split()"
   ]
  },
  {
   "cell_type": "code",
   "execution_count": 48,
   "metadata": {},
   "outputs": [
    {
     "data": {
      "text/plain": [
       "'-28.234689115976835'"
      ]
     },
     "execution_count": 48,
     "metadata": {},
     "output_type": "execute_result"
    }
   ],
   "source": [
    "coords[1]"
   ]
  },
  {
   "cell_type": "code",
   "execution_count": null,
   "metadata": {},
   "outputs": [],
   "source": []
  }
 ],
 "metadata": {
  "kernelspec": {
   "display_name": "Python 3",
   "language": "python",
   "name": "python3"
  },
  "language_info": {
   "codemirror_mode": {
    "name": "ipython",
    "version": 3
   },
   "file_extension": ".py",
   "mimetype": "text/x-python",
   "name": "python",
   "nbconvert_exporter": "python",
   "pygments_lexer": "ipython3",
   "version": "3.11.4"
  },
  "orig_nbformat": 4
 },
 "nbformat": 4,
 "nbformat_minor": 2
}
